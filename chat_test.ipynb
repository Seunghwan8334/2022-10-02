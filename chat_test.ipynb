{
  "nbformat": 4,
  "nbformat_minor": 0,
  "metadata": {
    "colab": {
      "provenance": [],
      "collapsed_sections": [],
      "include_colab_link": true
    },
    "kernelspec": {
      "name": "python3",
      "display_name": "Python 3"
    },
    "language_info": {
      "name": "python"
    }
  },
  "cells": [
    {
      "cell_type": "markdown",
      "metadata": {
        "id": "view-in-github",
        "colab_type": "text"
      },
      "source": [
        "<a href=\"https://colab.research.google.com/github/Seunghwan8334/2022-10-02/blob/main/chat_test.ipynb\" target=\"_parent\"><img src=\"https://colab.research.google.com/assets/colab-badge.svg\" alt=\"Open In Colab\"/></a>"
      ]
    },
    {
      "cell_type": "code",
      "execution_count": null,
      "metadata": {
        "id": "qnNtCtR83_Tb"
      },
      "outputs": [],
      "source": [
        "import requests\n",
        "import ssl\n",
        "from urllib.request import urlopen\n",
        "import json"
      ]
    },
    {
      "cell_type": "code",
      "source": [
        "!pip install python-certifi-win32"
      ],
      "metadata": {
        "id": "55pnKHv5-QsJ",
        "colab": {
          "base_uri": "https://localhost:8080/"
        },
        "outputId": "90cf1bc2-3f09-492c-b879-9558ee74c3f8"
      },
      "execution_count": null,
      "outputs": [
        {
          "output_type": "stream",
          "name": "stdout",
          "text": [
            "Looking in indexes: https://pypi.org/simple, https://us-python.pkg.dev/colab-wheels/public/simple/\n",
            "Collecting python-certifi-win32\n",
            "  Downloading python_certifi_win32-1.6.1-py2.py3-none-any.whl (7.3 kB)\n",
            "Requirement already satisfied: certifi in /usr/local/lib/python3.7/dist-packages (from python-certifi-win32) (2022.9.24)\n",
            "Collecting setuptools-scm\n",
            "  Downloading setuptools_scm-7.0.5-py3-none-any.whl (42 kB)\n",
            "\u001b[K     |████████████████████████████████| 42 kB 1.2 MB/s \n",
            "\u001b[?25hRequirement already satisfied: wrapt>=1.10.4 in /usr/local/lib/python3.7/dist-packages (from python-certifi-win32) (1.14.1)\n",
            "Requirement already satisfied: setuptools in /usr/local/lib/python3.7/dist-packages (from setuptools-scm->python-certifi-win32) (57.4.0)\n",
            "Requirement already satisfied: importlib-metadata in /usr/local/lib/python3.7/dist-packages (from setuptools-scm->python-certifi-win32) (4.13.0)\n",
            "Requirement already satisfied: typing-extensions in /usr/local/lib/python3.7/dist-packages (from setuptools-scm->python-certifi-win32) (4.1.1)\n",
            "Requirement already satisfied: packaging>=20.0 in /usr/local/lib/python3.7/dist-packages (from setuptools-scm->python-certifi-win32) (21.3)\n",
            "Requirement already satisfied: tomli>=1.0.0 in /usr/local/lib/python3.7/dist-packages (from setuptools-scm->python-certifi-win32) (2.0.1)\n",
            "Requirement already satisfied: pyparsing!=3.0.5,>=2.0.2 in /usr/local/lib/python3.7/dist-packages (from packaging>=20.0->setuptools-scm->python-certifi-win32) (3.0.9)\n",
            "Requirement already satisfied: zipp>=0.5 in /usr/local/lib/python3.7/dist-packages (from importlib-metadata->setuptools-scm->python-certifi-win32) (3.9.0)\n",
            "Installing collected packages: setuptools-scm, python-certifi-win32\n",
            "Successfully installed python-certifi-win32-1.6.1 setuptools-scm-7.0.5\n"
          ]
        }
      ]
    },
    {
      "cell_type": "code",
      "source": [
        "def get_solution_results(idx = -1):\n",
        "    url = f\"https://ec2-13-209-67-54.ap-northeast-2.compute.amazonaws.com/submission/%d\"%(idx)\n",
        "    context = ssl._create_unverified_context()\n",
        "    u = urlopen(url,context=context)\n",
        "    #response = requests.get(f\"https://ec2-13-209-67-54.ap-northeast-2.compute.amazonaws.com/submission?%d\"%(idx))\n",
        "    return u.read().decode('utf-8')"
      ],
      "metadata": {
        "id": "2qA3YmPE4WgQ"
      },
      "execution_count": null,
      "outputs": []
    },
    {
      "cell_type": "code",
      "source": [
        "result = json.loads(get_solution_results())\n",
        "result"
      ],
      "metadata": {
        "id": "Xhdh9HdH5mW4",
        "outputId": "a4790159-216a-43e6-be2d-19c9bdc1d5db",
        "colab": {
          "base_uri": "https://localhost:8080/"
        }
      },
      "execution_count": null,
      "outputs": [
        {
          "output_type": "execute_result",
          "data": {
            "text/plain": [
              "{'solution_id': 250581,\n",
              " 'problem_id': 1014,\n",
              " 'result': 6,\n",
              " 'language': 0,\n",
              " 'pass_rate': 0.25,\n",
              " 'compileinfo': None,\n",
              " 'runtimeinfo_str': '========[2.out]=========\\nExpected\\t\\t\\t\\t\\t\\t      |\\tYours\\n4\\t\\t\\t\\t\\t\\t\\t      |\\t1\\n==============================\\n========[4.out]=========\\nExpected\\t\\t\\t\\t\\t\\t      |\\tYours\\n8\\t\\t\\t\\t\\t\\t\\t      |\\t2\\n==============================\\n========[7.out]=========\\nExpected\\t\\t\\t\\t\\t\\t      |\\tYours\\n12\\t\\t\\t\\t\\t\\t\\t      |\\t2\\n==============================\\n========[5.out]=========\\nExpected\\t\\t\\t\\t\\t\\t      |\\tYours\\n2\\t\\t\\t\\t\\t\\t\\t      |\\t1\\n==============================\\n========[3.out]=========\\nExpected\\t\\t\\t\\t\\t\\t      |\\tYours\\n3\\t\\t\\t\\t\\t\\t\\t      |\\t1\\n==============================\\n========[1 (1).out]=========\\nExpected\\t\\t\\t\\t\\t\\t      |\\tYours\\n11\\t\\t\\t\\t\\t\\t\\t      |\\t2\\n==============================\\n',\n",
              " 'runtimeinfo_list': [1, 2, 3, 4, 5, 7]}"
            ]
          },
          "metadata": {},
          "execution_count": 4
        }
      ]
    },
    {
      "cell_type": "code",
      "source": [
        "error_type_map = {'표현 오류':5, '시간 초과':7, '메모리 초과':8, '출력 초과':9, '런타임 에러':10,'컴파일 에러':11}"
      ],
      "metadata": {
        "id": "OeMRLy_ci_FF"
      },
      "execution_count": null,
      "outputs": []
    },
    {
      "cell_type": "code",
      "source": [
        "def  \n",
        "    if problem_id == 1021:\n",
        "        if pass_rate > 0:\n",
        "            if 'test.out' in runtimeinfo: \n",
        "                return '123분은 2시간 3분으로 출력 되어야 해요.'\n",
        "            else:\n",
        "                return '23시 59분 59초에서 1초가 지나면 0시 0분 0초가 되어야 해요!'\n",
        "        else:\n",
        "            return '직접 숫자를 입력해서 출력을 확인해보아요'\n",
        "        \n",
        "    elif problem_id == 2298:\n",
        "        if result == 7:\n",
        "            return '2를 곱하는 과정을 계속 반복하기만 하면 시간이 너무 오래걸려요'\n",
        "        if result == 10:\n",
        "            return '입력 범위는 잘 확인해보셨나요?'\n",
        "        if pass_rate > 0.9:\n",
        "            if 'test001.out' in runtimeinfo:\n",
        "                return '입력 범위는 잘 확인해보셨나요?'\n",
        "            else:\n",
        "                return '나머지를 잘 구했는지 확인해보아요.'\n",
        "        else:\n",
        "            return '다양한 입력에 대해 정답이 나오는지 확인해보아요.'\n",
        "        \n",
        "        \n",
        "    elif problem_id == 1057:\n",
        "        return '입력이 7이면 4줄이 출력이되어야 해요. 그럼 입력이 n이면 몇줄이 출력이 되야할까요?'\n",
        "\n",
        "    elif problem_id == 1299:\n",
        "        if result == 10:\n",
        "            return '문자열의 길이를 잘 확인해 보았나요?'\n",
        "        if pass_rate > 0:\n",
        "            if 'test.out' not in runtimeinfo:\n",
        "                return '문자열에 공백이 여러개 일 수 있어요.'\n",
        "        return '단어 갯수가 잘 세지지 않는것 같아요.'   \n",
        "\n",
        "    elif problem_id == 2183:\n",
        "        if pass_rate > 0:\n",
        "            return '입력된 숫자가 같을 수 있어요.'\n",
        "        else:\n",
        "            return '숫자를 입력해서 결과를 확인해 볼까요?'\n",
        "        \n",
        "    elif problem_id == 1516 or problem_id == 1379:\n",
        "        if pass_rate > 0.5:\n",
        "            return '모든 학생들이 한 방에 배정될 수 있어요.'\n",
        "        \n",
        "    elif problem_id == 1183:\n",
        "        if pass_rate > 0.4:\n",
        "            return '바둑알이 6개 이상 놓인 경우는 승리가 아니에요.'"
      ],
      "metadata": {
        "id": "wZ8cVJR4hfSS"
      },
      "execution_count": null,
      "outputs": []
    }
  ]
}